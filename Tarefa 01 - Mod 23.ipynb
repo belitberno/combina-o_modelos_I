{
 "cells": [
  {
   "cell_type": "markdown",
   "id": "666ba698",
   "metadata": {},
   "source": [
    "# Tarefa 01 - Módulo 23 -  Combinação de modelos I"
   ]
  },
  {
   "cell_type": "markdown",
   "id": "f9ba9f7f",
   "metadata": {},
   "source": [
    "1. Monte um passo a passo para o Bagging"
   ]
  },
  {
   "cell_type": "markdown",
   "id": "8b97a29d",
   "metadata": {},
   "source": [
    "<img src=\"https://miro.medium.com/v2/resize:fit:2000/format:webp/1*8Sw8S1Z1hR7o7MzKLvgUew.png\" width =\"800\" height=\"100\" >"
   ]
  },
  {
   "cell_type": "markdown",
   "id": "94dd75e0",
   "metadata": {},
   "source": [
    "[FONTE DE IMAGEM](https://medium.com/datarisk-io/como-utilizar-bootstrap-aggregation-para-classifica%C3%A7%C3%A3o-37513676edfa)"
   ]
  },
  {
   "cell_type": "markdown",
   "id": "a2623cbe",
   "metadata": {},
   "source": [
    "2. Explique com suas palavras o Bagging"
   ]
  },
  {
   "cell_type": "markdown",
   "id": "b0dda09a",
   "metadata": {},
   "source": [
    "<br>O **_Bootstrap Aggregation_**, é parte do conjunto de classes principais dos métodos **_Ensemble Learning_**. Esses algoritmos, em geral, buscam por meio de uma cobinação de diferentes modelos treinados para uma mesma tarefa, assim, alcançando um modelo agrupado mais complexo e robusto.<br>\n",
    "<br>Portanto, o **_Bagging_** é um algoritmo, essencialmente um **_ensemble_** de modelos de árvores de decisão, apesar de suportar outros tipos de técnicas de combinação de modelos. O **_Bootstrap_**, é uma idéia baseada na amostragem com reposição de um dataset, ou seja, permite que a amostra seja escolhida em outros processos novamente.O **_Bagging_** parte desta abordagem, onde as multiplas amostras são retiradas do dataset de treino, ajustando um modelo de árvore de decisão de cada uma delas, e as previsões das árvores são combinadas e possibilitam um modelo com maior precisão e robustez.<br>\n",
    "<br>As árvores de decisão utilizadas nessa técnica tendem a ter um super ajuste nos dados treinados, portanto, elas são caracterizadas por ter um **_overfitting_**, cada árvore se ajusta ao conjunto de dados que é passado, permitindo que cada uma apresente particularidades com a caracteristicas dos dados.<br>\n",
    "<br>A éficacia desse método é a suposição de que as árvores tenham entre si baixa correlação entre as predições, portanto, menores erros na predição combinada, esta técnica é apropriada para modelos com alta variância.<br>"
   ]
  }
 ],
 "metadata": {
  "kernelspec": {
   "display_name": "Python 3 (ipykernel)",
   "language": "python",
   "name": "python3"
  },
  "language_info": {
   "codemirror_mode": {
    "name": "ipython",
    "version": 3
   },
   "file_extension": ".py",
   "mimetype": "text/x-python",
   "name": "python",
   "nbconvert_exporter": "python",
   "pygments_lexer": "ipython3",
   "version": "3.11.5"
  }
 },
 "nbformat": 4,
 "nbformat_minor": 5
}
