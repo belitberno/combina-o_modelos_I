{
 "cells": [
  {
   "cell_type": "markdown",
   "id": "666ba698",
   "metadata": {},
   "source": [
    "# Tarefa 03 - Módulo 23 -  Combinação de modelos I"
   ]
  },
  {
   "cell_type": "markdown",
   "id": "f9ba9f7f",
   "metadata": {},
   "source": [
    "1. Quais são os hyperparâmetrosdo RF?"
   ]
  },
  {
   "cell_type": "markdown",
   "id": "e862912a",
   "metadata": {},
   "source": [
    "<br> Os **hiperparâmetros** que determinam o comportadomento do modelo, e podem ser ajustados para melhoras o desempenho da árvore. O hiperparâmetro mais comum do Random Forest são o número de árvores, a profundidade máxima das árvores e o número mínimo de amostras para dividir um nó. Em suma, os hiperparâmetos nos ajudam a descobrir o melhor modelo.<br>\n",
    "<br>Os **Hiperparâmetros** são:<br>\n",
    "- n_estimators;\n",
    "- max_features;\n",
    "- min_sample_leaf;\n",
    "- oob_score;\n",
    "- random_state;\n",
    "- n_jobs."
   ]
  },
  {
   "cell_type": "markdown",
   "id": "a2623cbe",
   "metadata": {},
   "source": [
    "2. Pra que serve cada um deles?"
   ]
  },
  {
   "cell_type": "markdown",
   "id": "c2fd80df",
   "metadata": {},
   "source": [
    "- **n_estimators**: indica o número de árvores contruidas pelo algoritmo antes de tomar uma votação ou fazer uma média de predições. Quanto maior a quantidade árvores, melhor a predições, porém torna o precessamento mais lento.<br>\n",
    "- **max_features**: indica o número máximo de caracteristicas a serem utilizadas pelo Random Florest na construção de uma árvore.<br>\n",
    "- **min_sample_leaf**: indica o número minimo de folhas que devem existir numa árvore.<br>\n",
    "- **oob_score**: é uma validação cruzada para Random Florest, cerca de um terço dos dados não é utilizado no treinamento e pode ser utilizado para avaliar a perfomance.<br>\n",
    "- **random_state**: torna o modelo replicável.<br>\n",
    "- **n_jobs**: informa quantos processadores o algoritmo pode utilizar."
   ]
  },
  {
   "cell_type": "code",
   "execution_count": null,
   "id": "91d82c4c",
   "metadata": {},
   "outputs": [],
   "source": []
  }
 ],
 "metadata": {
  "kernelspec": {
   "display_name": "Python 3 (ipykernel)",
   "language": "python",
   "name": "python3"
  },
  "language_info": {
   "codemirror_mode": {
    "name": "ipython",
    "version": 3
   },
   "file_extension": ".py",
   "mimetype": "text/x-python",
   "name": "python",
   "nbconvert_exporter": "python",
   "pygments_lexer": "ipython3",
   "version": "3.11.5"
  }
 },
 "nbformat": 4,
 "nbformat_minor": 5
}
